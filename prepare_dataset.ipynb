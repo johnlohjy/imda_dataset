{
 "cells": [
  {
   "cell_type": "markdown",
   "metadata": {},
   "source": [
    "### Imports"
   ]
  },
  {
   "cell_type": "code",
   "execution_count": 1,
   "metadata": {},
   "outputs": [
    {
     "name": "stderr",
     "output_type": "stream",
     "text": [
      "c:\\Users\\User\\miniconda3\\envs\\myenv2\\Lib\\site-packages\\pydub\\utils.py:170: RuntimeWarning: Couldn't find ffmpeg or avconv - defaulting to ffmpeg, but may not work\n",
      "  warn(\"Couldn't find ffmpeg or avconv - defaulting to ffmpeg, but may not work\", RuntimeWarning)\n"
     ]
    }
   ],
   "source": [
    "import re \n",
    "import os\n",
    "from praatio import textgrid \n",
    "from pydub import AudioSegment"
   ]
  },
  {
   "cell_type": "markdown",
   "metadata": {},
   "source": [
    "### Helper function to clean transcriptions"
   ]
  },
  {
   "cell_type": "code",
   "execution_count": 2,
   "metadata": {},
   "outputs": [],
   "source": [
    "def clean_transcription(transcript):\n",
    "    transcript = ' '.join(line.strip() for line in transcript)\n",
    "    transcript = transcript.lower()\n",
    "    remove = [r'\\(ppb\\)|\\(ppc\\)|\\(ppl\\)|\\(ppo\\)', r'_', r'\\[|\\]', r'\\(|\\)', r'!', \n",
    "            r'#', r'<unk>', r'~', r'<s>', r'<z>', r'<nen>', r'<fil/>', r'<spk/>',\n",
    "            r'\\*', r'<non/>', r'<s/>', r'<c/>']\n",
    "    replace = ['-']\n",
    "    for e in remove:\n",
    "        transcript = re.sub(e, '', transcript)\n",
    "    for e in replace:\n",
    "        transcript = re.sub(e, ' ', transcript)\n",
    "    transcript = re.sub(r'\\s+', ' ', transcript).strip()\n",
    "    return transcript"
   ]
  },
  {
   "cell_type": "markdown",
   "metadata": {},
   "source": [
    "### Create 30s segments of audio and clean transcriptions given an audio and TextGrid file pair"
   ]
  },
  {
   "cell_type": "markdown",
   "metadata": {},
   "source": [
    "```\n",
    "- imda_nsc_p3.tar.gz\n",
    "    - imda_nsc_p3.tar\n",
    "        - train\n",
    "            - prompts.txt: Contains transcriptions for all the .wav files\n",
    "            - waves\n",
    "                - 3000-1.tar\n",
    "                    - 3000-1_1.wav\n",
    "                    - 3000-1_2.wav\n",
    "                    - 3000-1_3.wav\n",
    "- prompts-train.txt.gz\n",
    "    - prompts-train.txt: Contains transcriptions for all the train .wav files\n",
    "```"
   ]
  },
  {
   "cell_type": "code",
   "execution_count": null,
   "metadata": {},
   "outputs": [],
   "source": [
    "# Input paths\n",
    "audio_filename = '3000-1'\n",
    "audio_path = os.path.join(os.getcwd(), 'dataset', 'part3', 'simple_example', f'{audio_filename}.wav')\n",
    "textgrid_path = os.path.join(os.getcwd(), 'dataset', 'part3', 'simple_example', f'{audio_filename}.TextGrid')\n",
    "\n",
    "# Output paths\n",
    "output_dir_train_wav = os.path.join(os.getcwd(), 'dataset', 'imda_nsc_prototype', 'train', 'waves', f'{audio_filename}')\n",
    "os.makedirs(output_dir_train_wav, exist_ok=True)\n",
    "output_dir_train_text = os.path.join(os.getcwd(), 'dataset', 'imda_nsc_prototype', 'train', 'prompts.txt')\n",
    "\n",
    "# https://github.com/jiaaro/pydub\n",
    "# https://github.com/timmahrt/praatIO\n",
    "# https://timmahrt.github.io/praatIO/praatio.html\n",
    "# Extract the audio and text grid\n",
    "audio = AudioSegment.from_wav(audio_path)\n",
    "tg = textgrid.openTextgrid(textgrid_path, False) # do not include intervals and points with empty labels\n",
    "\n",
    "# pydub does things in milliseconds\n",
    "segment_duration_ms = 30 * 1000  \n",
    "\n",
    "# Get total duration of the audio in milliseconds\n",
    "audio_duration = len(audio)\n",
    "\n",
    "# Initialize start time and segment index\n",
    "start_time = 0\n",
    "segment_index = 1\n",
    "\n",
    "while start_time < audio_duration:\n",
    "    # Initialise end time of the segment\n",
    "    end_time = min(start_time + segment_duration_ms, audio_duration)\n",
    "\n",
    "    # Extract audio segment given the current start and end timing\n",
    "    audio_segment = audio[start_time:end_time]\n",
    "\n",
    "    # Save the audio segment\n",
    "    audio_segment_path = os.path.join(output_dir_train_wav, f'{audio_filename}_{segment_index}.wav')\n",
    "    audio_segment.export(audio_segment_path, format=\"wav\")\n",
    "\n",
    "    # Extract the corresponding TextGrid segment\n",
    "    # https://timmahrt.github.io/praatIO/praatio/data_classes/textgrid.html\n",
    "    tg_segment = tg.crop(start_time / 1000, end_time / 1000, mode=\"truncated\", rebaseToZero=False)\n",
    "\n",
    "    # Collect transcriptions from the TextGrid segment\n",
    "    transcriptions = []\n",
    "    for tier_name in tg_segment.tierNames: # For each tier (in order) in the TextGrid segment\n",
    "        tier = tg_segment.getTier(tier_name) # Get the tier\n",
    "        for entry in tier.entries: # For each of its entries, extract the labels \n",
    "            if entry.label.strip():  # Only include non-empty transcriptions -> but should be handled above already\n",
    "                transcriptions.append(entry.label)\n",
    "\n",
    "    #print(f\"Dirty transcription: {transcriptions}\")\n",
    "    # Clean the transcriptions\n",
    "    transcriptions_clean = clean_transcription(transcriptions)\n",
    "    #print(f\"Clean transcription: {transcriptions_clean}\")\n",
    "    #print(\"\")\n",
    "\n",
    "    # Save the transcriptions to a text file, append mode\n",
    "    with open(output_dir_train_text, 'a') as f:\n",
    "        f.write(f'{audio_filename}_{segment_index} {transcriptions_clean}\\n')\n",
    "\n",
    "    start_time+=segment_duration_ms\n",
    "    segment_index+=1"
   ]
  },
  {
   "cell_type": "code",
   "execution_count": null,
   "metadata": {},
   "outputs": [],
   "source": []
  }
 ],
 "metadata": {
  "kernelspec": {
   "display_name": "myenv2",
   "language": "python",
   "name": "python3"
  },
  "language_info": {
   "codemirror_mode": {
    "name": "ipython",
    "version": 3
   },
   "file_extension": ".py",
   "mimetype": "text/x-python",
   "name": "python",
   "nbconvert_exporter": "python",
   "pygments_lexer": "ipython3",
   "version": "3.12.5"
  }
 },
 "nbformat": 4,
 "nbformat_minor": 2
}
