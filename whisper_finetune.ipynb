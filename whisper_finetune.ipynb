{
 "cells": [
  {
   "cell_type": "markdown",
   "metadata": {},
   "source": [
    "# Whisper Finetune"
   ]
  },
  {
   "cell_type": "markdown",
   "metadata": {},
   "source": [
    "## Part 1: Get Data \n",
    "\n",
    "National Speech Corpus\n",
    "- Part 3: 1000 hours of conversational speech data (Used by Home team)\n",
    "- Part 2: 1000 hours of prompted recordings of random sentences containing local words and entities (Used by some developer)\n",
    "- Part 4: Conversational code-switched data (from Singaporean English to various native languages)\n",
    "\n",
    "<br/>\n",
    "<br/>\n",
    "\n",
    "- https://medium.com/htx-dsai/finetuning-whisper-for-the-singaporean-home-team-context-a3ae1a6ae809\n",
    "- https://www.jensenlwt.com/blog/singlish-whisper-finetuning-asr-for-singapore-unique-english\n"
   ]
  },
  {
   "cell_type": "markdown",
   "metadata": {},
   "source": [
    "<br/>\n",
    "<br/>\n",
    "<br/>\n",
    "<br/>\n",
    "<br/>"
   ]
  },
  {
   "cell_type": "markdown",
   "metadata": {},
   "source": [
    "## Part 2: Prepare Data\n",
    "\n",
    "- Match each transcript sentence to its corresponding audio file\n",
    "- Check on the environment where the audio is recorded (decide the environment)\n",
    "    - Close-talk mic that isolates main speaker's voice \n",
    "    - Standing microphone \n",
    "- Clean the transcripts by removing annotations for\n",
    "    - <em>Paralinguistic phenomena</em>: (e.g., breathing, coughing, laughing) — this is represented in the text by annotations such as (ppo), (ppb), (ppl) etc.\n",
    "    - <em>Fillers or unknown words</em>: ```<FIL/>```, unclear words ```<UNK>```, short pauses ```<S>``` etc. according to the NSC transcription guidelines\n",
    "    - <em>Unique Singlish particles</em>: we removed the annotations and kept the particles as part of the text e.g., ‘ok ```[lah]``` we go there’ → ‘ok lah we go there’\n",
    "- Normalise the transcript text\n",
    "    - Remove punctuations\n",
    "    - Lowercase text\n",
    "- Create 30s audio segments with corresponding transcripts\n",
    "    - Using time segments from ```TextGrid files```, splice out corresponding segments from WAV files\n",
    "    - Combine shorter consecutive segments (?)\n",
    "    - 30s: Whisper's feature extractor ensures all audio is 30s (intrinsic design)\n",
    "\n",
    "<br/>\n",
    "<br/>\n",
    "\n",
    "- https://medium.com/htx-dsai/finetuning-whisper-for-the-singaporean-home-team-context-a3ae1a6ae809\n",
    "- https://www.jensenlwt.com/blog/singlish-whisper-finetuning-asr-for-singapore-unique-english\n"
   ]
  },
  {
   "cell_type": "markdown",
   "metadata": {},
   "source": [
    "### Simple Example"
   ]
  },
  {
   "cell_type": "markdown",
   "metadata": {},
   "source": [
    "**1. Match 3000-1.wav and 3000-1.TEXTGRID**"
   ]
  },
  {
   "cell_type": "markdown",
   "metadata": {},
   "source": [
    "**2. Clean transcripts by removing annotations**\n",
    "\n",
    "Reference Transcription Guidelines\n",
    "\n",
    "- Apostophes (own observation)\n",
    "    - Example: couldn't, he's\n",
    "- Acronyms\n",
    "    - Acronyms have '_' by convention\n",
    "    - Example: n_a_f_a, n_t_u, l_m_s\n",
    "- Multi-word nouns\n",
    "    - Multi-word nouns have '-' by convention\n",
    "    - Example: hong-kong, ang-mo-kio, s_t-engineering\n",
    "- Discourse particles (Unique Singlish particles)\n",
    "    - Discourse particles have [...] by convention\n",
    "    - Example: [oh], [ah], [wah], [one], [lah]\n",
    "- Fillers\n",
    "    - Fillers have (...) by convention\n",
    "    - Example: (uh), (um), (er), (erm)\n",
    "- Interjections\n",
    "    - Interjections have !...! by example\n",
    "    - Example: !walao!, !wow!, !aiyo!\n",
    "- Paralinguistic Phenomena (e.g., breathing, coughing, laughing)\n",
    "    - Paralinguistic Phenomena includes\n",
    "        - (ppb) breath\n",
    "        - (ppc) cough\n",
    "        - (ppl) laugh\n",
    "        - (ppo) others\n",
    "    - Example: (ppc), (ppo), (ppb), (ppl)\n",
    "- Other languages \n",
    "    - Other languages have #...# by convention\n",
    "    - Example: #pasar malam#, #roti-john#, #tak sedap#, #muah-chee#, #shiok#, #pek chek#\n",
    "- Unclear words\n",
    "    - Unclear words are denoted by ```<UNK>``` or ```<unk>```\n",
    "- Incomplete words\n",
    "    - Incomplete words have '~' at the end by convention\n",
    "    - Example: abbre~, abbrev~\n",
    "- Short pauses: ```<S>```\n",
    "- Invalid: ```<Z>```\n",
    "    - Invalid speech, Noise, Non-primary speaker's voice, Sounds from the monitor/speaker, Continuous noise \n",
    "- <u>Long-running</u> Non-English utterances: ```<NEN>```\n",
    "- Fillers: ```<FIL/>```\n",
    "    - This is equivalent to [xxx]\n",
    "- Speaker Noise: ```<SPK/>```\n",
    "    - This is equivalent to (ppb), (ppc), (ppl), (ppo)\n",
    "- Unknown: ** \n",
    "    - This is equivalent to ```<UNK>```\n",
    "- Non-primary speaker sound: ```<NON/>```\n",
    "    - This includes background sounds, including sounds made by other speaker, background noise etc.\n",
    "- End of sentence: ```<s/>```\n",
    "- Comma: ```<c/>```\n",
    "\n",
    "    "
   ]
  },
  {
   "cell_type": "code",
   "execution_count": 23,
   "metadata": {},
   "outputs": [],
   "source": [
    "with open('./dataset/part3/simple_example/3000-1.TextGrid', 'rb') as f: \n",
    "    contents = f.readlines() "
   ]
  },
  {
   "cell_type": "markdown",
   "metadata": {},
   "source": [
    "<br/>\n",
    "<br/>\n",
    "<br/>\n",
    "<br/>\n",
    "<br/>"
   ]
  },
  {
   "cell_type": "markdown",
   "metadata": {},
   "source": [
    "## Part 3: Load Data\n",
    "\n",
    "<u>Upload to HuggingFace</u>\n",
    "\n",
    "Prepare our own audio dataset and upload it to HF\n",
    "\n",
    "Stream data during the training process\n",
    "\n",
    "- https://medium.com/htx-dsai/finetuning-whisper-for-the-singaporean-home-team-context-a3ae1a6ae809\n",
    "- https://twodatadetectives.medium.com/push-your-custom-dataset-to-huggingface-two-ways-47482e8a0f34\n",
    "- https://huggingface.co/docs/datasets/en/create_dataset\n",
    "- https://huggingface.co/docs/datasets/en/audio_dataset#loading-script\n",
    "- https://github.com/huggingface/datasets/blob/main/templates/new_dataset_script.py"
   ]
  },
  {
   "cell_type": "markdown",
   "metadata": {},
   "source": []
  }
 ],
 "metadata": {
  "kernelspec": {
   "display_name": "myenv2",
   "language": "python",
   "name": "python3"
  },
  "language_info": {
   "codemirror_mode": {
    "name": "ipython",
    "version": 3
   },
   "file_extension": ".py",
   "mimetype": "text/x-python",
   "name": "python",
   "nbconvert_exporter": "python",
   "pygments_lexer": "ipython3",
   "version": "3.12.4"
  }
 },
 "nbformat": 4,
 "nbformat_minor": 2
}
